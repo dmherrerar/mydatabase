{
  "nbformat": 4,
  "nbformat_minor": 0,
  "metadata": {
    "colab": {
      "provenance": [],
      "authorship_tag": "ABX9TyP/LvliLER4xTK4kGGoHcFi",
      "include_colab_link": true
    },
    "kernelspec": {
      "name": "python3",
      "display_name": "Python 3"
    },
    "language_info": {
      "name": "python"
    }
  },
  "cells": [
    {
      "cell_type": "markdown",
      "metadata": {
        "id": "view-in-github",
        "colab_type": "text"
      },
      "source": [
        "<a href=\"https://colab.research.google.com/github/dmherrerar/mydatabase/blob/main/mydatabase.ipynb\" target=\"_parent\"><img src=\"https://colab.research.google.com/assets/colab-badge.svg\" alt=\"Open In Colab\"/></a>"
      ]
    },
    {
      "cell_type": "code",
      "execution_count": 3,
      "metadata": {
        "id": "mo-QcS6RV_Y9",
        "colab": {
          "base_uri": "https://localhost:8080/"
        },
        "outputId": "ee33f128-6bd2-43b7-c799-41a6dcbb8812"
      },
      "outputs": [
        {
          "output_type": "stream",
          "name": "stdout",
          "text": [
            "Looking in indexes: https://pypi.org/simple, https://us-python.pkg.dev/colab-wheels/public/simple/\n",
            "Collecting mysql-connector-python\n",
            "  Downloading mysql_connector_python-8.0.30-cp37-cp37m-manylinux1_x86_64.whl (25.4 MB)\n",
            "\u001b[K     |████████████████████████████████| 25.4 MB 1.5 MB/s \n",
            "\u001b[?25hRequirement already satisfied: protobuf<=3.20.1,>=3.11.0 in /usr/local/lib/python3.7/dist-packages (from mysql-connector-python) (3.17.3)\n",
            "Requirement already satisfied: six>=1.9 in /usr/local/lib/python3.7/dist-packages (from protobuf<=3.20.1,>=3.11.0->mysql-connector-python) (1.15.0)\n",
            "Installing collected packages: mysql-connector-python\n",
            "Successfully installed mysql-connector-python-8.0.30\n"
          ]
        }
      ],
      "source": [
        "pip install mysql-connector-python"
      ]
    },
    {
      "cell_type": "code",
      "source": [
        "import mysql.connector\n",
        "\n",
        "mydb = mysql.connector.connect(\n",
        "  host=\"us-east.connect.psdb.cloud\",\n",
        "  user=\"exmx33vhbtnftl6aluem\",\n",
        "  password=\"pscale_pw_mRe4pqh64vP6YyPIO8eZdeGIbaQsRqAKvIU17bVZOyL\",\n",
        "  database=\"mydatabase\"\n",
        ")"
      ],
      "metadata": {
        "id": "Mo9FzlE3YvUv"
      },
      "execution_count": null,
      "outputs": []
    },
    {
      "cell_type": "code",
      "source": [
        "import mysql.connector\n",
        "\n",
        "mydb = mysql.connector.connect(\n",
        " host=\"us-east.connect.psdb.cloud\",\n",
        "  user=\"exmx33vhbtnftl6aluem\",\n",
        "  password=\"pscale_pw_mRe4pqh64vP6YyPIO8eZdeGIbaQsRqAKvIU17bVZOyL\",\n",
        "  database=\"mydatabase\"\n",
        ")\n",
        "\n",
        "mycursor = mydb.cursor()\n",
        "\n",
        "mycursor.execute(\"CREATE TABLE customers2 (name VARCHAR(255), address VARCHAR(255))\")"
      ],
      "metadata": {
        "id": "3xjuBpUhaBrZ"
      },
      "execution_count": null,
      "outputs": []
    },
    {
      "cell_type": "code",
      "source": [
        "import mysql.connector\n",
        "\n",
        "mydb = mysql.connector.connect(\n",
        " host=\"us-east.connect.psdb.cloud\",\n",
        "  user=\"exmx33vhbtnftl6aluem\",\n",
        "  password=\"pscale_pw_mRe4pqh64vP6YyPIO8eZdeGIbaQsRqAKvIU17bVZOyL\",\n",
        "  database=\"mydatabase\"\n",
        ")\n",
        "\n",
        "mycursor = mydb.cursor()\n",
        "\n",
        "sql = \"INSERT INTO customers2 (name, address) VALUES (%s, %s)\"\n",
        "val = (\"John\", \"Highway 21\")\n",
        "mycursor.execute(sql, val)\n",
        "\n",
        "mydb.commit()\n",
        "\n",
        "print(mycursor.rowcount, \"record inserted.\")"
      ],
      "metadata": {
        "colab": {
          "base_uri": "https://localhost:8080/"
        },
        "id": "gybzubjNbZXu",
        "outputId": "e6c08083-c0ff-4733-d1d5-23e8780d22b7"
      },
      "execution_count": null,
      "outputs": [
        {
          "output_type": "stream",
          "name": "stdout",
          "text": [
            "1 record inserted.\n"
          ]
        }
      ]
    },
    {
      "cell_type": "code",
      "source": [
        "import mysql.connector\n",
        "\n",
        "mydb = mysql.connector.connect(\n",
        "   host=\"us-east.connect.psdb.cloud\",\n",
        "  user=\"exmx33vhbtnftl6aluem\",\n",
        "  password=\"pscale_pw_mRe4pqh64vP6YyPIO8eZdeGIbaQsRqAKvIU17bVZOyL\",\n",
        "  database=\"mydatabase\"\n",
        ")\n",
        "\n",
        "mycursor = mydb.cursor()\n",
        "\n",
        "sql = \"INSERT INTO customers2 (name, address) VALUES (%s, %s)\"\n",
        "val = [\n",
        "  ('Peter', 'Lowstreet 4'),\n",
        "  ('Amy', 'Apple st 652'),\n",
        "  ('Hannah', 'Mountain 21'),\n",
        "  ('Michael', 'Valley 345'),\n",
        "  ('Sandy', 'Ocean blvd 2'),\n",
        "  ('Betty', 'Green Grass 1'),\n",
        "  ('Richard', 'Sky st 331'),\n",
        "  ('Susan', 'One way 98'),\n",
        "  ('Vicky', 'Yellow Garden 2'),\n",
        "  ('Ben', 'Park Lane 38'),\n",
        "  ('William', 'Central st 954'),\n",
        "  ('Chuck', 'Main Road 989'),\n",
        "  ('Viola', 'Sideway 1633')\n",
        "]\n",
        "\n",
        "mycursor.executemany(sql, val)\n",
        "\n",
        "mydb.commit()\n",
        "\n",
        "print(mycursor.rowcount, \"was inserted.\")"
      ],
      "metadata": {
        "colab": {
          "base_uri": "https://localhost:8080/"
        },
        "id": "gsPxVgbYbu6t",
        "outputId": "bfb9a048-0496-4556-be05-e1160fb31ba2"
      },
      "execution_count": null,
      "outputs": [
        {
          "output_type": "stream",
          "name": "stdout",
          "text": [
            "13 was inserted.\n"
          ]
        }
      ]
    },
    {
      "cell_type": "code",
      "source": [
        "import mysql.connector\n",
        "\n",
        "mydb = mysql.connector.connect(\n",
        "  host=\"us-east.connect.psdb.cloud\",\n",
        "  user=\"exmx33vhbtnftl6aluem\",\n",
        "  password=\"pscale_pw_mRe4pqh64vP6YyPIO8eZdeGIbaQsRqAKvIU17bVZOyL\",\n",
        "  database=\"mydatabase\"\n",
        ")\n",
        "\n",
        "mycursor = mydb.cursor()\n",
        "\n",
        "mycursor.execute(\"SELECT * FROM customers2\")\n",
        "\n",
        "myresult = mycursor.fetchall()\n",
        "\n",
        "for x in myresult:\n",
        "  print(x)"
      ],
      "metadata": {
        "colab": {
          "base_uri": "https://localhost:8080/"
        },
        "id": "bUHL58uqcJH9",
        "outputId": "acb1d0b6-bd05-4114-c99e-2b0e9868e0e7"
      },
      "execution_count": null,
      "outputs": [
        {
          "output_type": "stream",
          "name": "stdout",
          "text": [
            "('John', 'Highway 21')\n",
            "('Peter', 'Lowstreet 4')\n",
            "('Amy', 'Apple st 652')\n",
            "('Hannah', 'Mountain 21')\n",
            "('Michael', 'Valley 345')\n",
            "('Sandy', 'Ocean blvd 2')\n",
            "('Betty', 'Green Grass 1')\n",
            "('Richard', 'Sky st 331')\n",
            "('Susan', 'One way 98')\n",
            "('Vicky', 'Yellow Garden 2')\n",
            "('Ben', 'Park Lane 38')\n",
            "('William', 'Central st 954')\n",
            "('Chuck', 'Main Road 989')\n",
            "('Viola', 'Sideway 1633')\n"
          ]
        }
      ]
    },
    {
      "cell_type": "code",
      "source": [
        "import mysql.connector\n",
        "\n",
        "mydb = mysql.connector.connect(\n",
        "  host=\"us-east.connect.psdb.cloud\",\n",
        "  user=\"exmx33vhbtnftl6aluem\",\n",
        "  password=\"pscale_pw_mRe4pqh64vP6YyPIO8eZdeGIbaQsRqAKvIU17bVZOyL\",\n",
        "  database=\"mydatabase\"\n",
        ")\n",
        "\n",
        "mycursor = mydb.cursor()\n",
        "\n",
        "sql = \"DELETE FROM customers WHERE address = 'Mountain 21'\"\n",
        "\n",
        "mycursor.execute(sql)\n",
        "\n",
        "mydb.commit()\n",
        "\n",
        "print(mycursor.rowcount, \"record(s) deleted\")"
      ],
      "metadata": {
        "colab": {
          "base_uri": "https://localhost:8080/"
        },
        "id": "klfGNnr370C6",
        "outputId": "1313d32c-ccd0-45c8-b4e8-4f5232d20356"
      },
      "execution_count": 4,
      "outputs": [
        {
          "output_type": "stream",
          "name": "stdout",
          "text": [
            "1 record(s) deleted\n"
          ]
        }
      ]
    },
    {
      "cell_type": "code",
      "source": [
        "import mysql.connector\n",
        "\n",
        "mydb = mysql.connector.connect(\n",
        "  host=\"us-east.connect.psdb.cloud\",\n",
        "  user=\"exmx33vhbtnftl6aluem\",\n",
        "  password=\"pscale_pw_mRe4pqh64vP6YyPIO8eZdeGIbaQsRqAKvIU17bVZOyL\",\n",
        "  database=\"mydatabase\"\n",
        ")\n",
        "\n",
        "mycursor = mydb.cursor()\n",
        "\n",
        "sql = \"UPDATE customers SET address = 'Canyon 123' WHERE address = 'Valley 345'\"\n",
        "\n",
        "mycursor.execute(sql)\n",
        "\n",
        "mydb.commit()\n",
        "\n",
        "print(mycursor.rowcount, \"record(s) affected\")"
      ],
      "metadata": {
        "colab": {
          "base_uri": "https://localhost:8080/"
        },
        "id": "WerFtpNY8SwD",
        "outputId": "e4abdee9-c887-432f-a2e1-7f794044c6b3"
      },
      "execution_count": 5,
      "outputs": [
        {
          "output_type": "stream",
          "name": "stdout",
          "text": [
            "1 record(s) affected\n"
          ]
        }
      ]
    },
    {
      "cell_type": "code",
      "source": [
        "import mysql.connector\n",
        "\n",
        "mydb = mysql.connector.connect(\n",
        "  host=\"us-east.connect.psdb.cloud\",\n",
        "  user=\"exmx33vhbtnftl6aluem\",\n",
        "  password=\"pscale_pw_mRe4pqh64vP6YyPIO8eZdeGIbaQsRqAKvIU17bVZOyL\",\n",
        "  database=\"mydatabase\"\n",
        ")\n",
        "\n",
        "mycursor = mydb.cursor()\n",
        "\n",
        "sql = \"DROP TABLE customers\"\n",
        "\n",
        "mycursor.execute(sql)"
      ],
      "metadata": {
        "id": "i6L5RVqm9kpT"
      },
      "execution_count": 6,
      "outputs": []
    }
  ]
}